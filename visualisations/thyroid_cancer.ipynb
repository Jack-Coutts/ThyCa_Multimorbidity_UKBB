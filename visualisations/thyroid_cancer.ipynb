{
 "cells": [
  {
   "cell_type": "code",
   "execution_count": 1,
   "outputs": [],
   "source": [
    "import pandas as pd"
   ],
   "metadata": {
    "collapsed": false,
    "pycharm": {
     "name": "#%%\n"
    }
   }
  },
  {
   "cell_type": "code",
   "execution_count": 9,
   "outputs": [],
   "source": [
    "# Read in association rules\n",
    "rules = pd.read_csv('~/Desktop/Apocrita_results/Multimorbidity/arm_analysis/ThyCa_arm_results.tsv', sep='\\t', index_col=False)"
   ],
   "metadata": {
    "collapsed": false,
    "pycharm": {
     "name": "#%%\n"
    }
   }
  },
  {
   "cell_type": "code",
   "execution_count": 10,
   "outputs": [
    {
     "data": {
      "text/plain": "     Unnamed: 0 antecedents consequents  antecedent support  \\\n0           164    ['p041']    ['p193']            0.043618   \n1           165    ['p193']    ['p041']            0.001737   \n2           290   ['p1019']    ['p193']            0.065369   \n3           291    ['p193']   ['p1019']            0.001737   \n4            76    ['p193']    ['p170']            0.001737   \n..          ...         ...         ...                 ...   \n394         187    ['p193']    ['p785']            0.001737   \n395         226    ['p789']    ['p193']            0.055515   \n396         227    ['p193']    ['p789']            0.001737   \n397         284    ['p990']    ['p193']            0.025248   \n398         285    ['p193']    ['p990']            0.001737   \n\n     consequent support   support  confidence       lift  leverage  conviction  \n0              0.001737  0.000122    0.002787   1.604178  0.000046    1.001053  \n1              0.043618  0.000122    0.069971   1.604178  0.000046    1.028336  \n2              0.001737  0.000149    0.002286   1.315706  0.000036    1.000550  \n3              0.065369  0.000149    0.086006   1.315706  0.000036    1.022579  \n4              0.002084  0.000154    0.088921  42.665361  0.000151    1.095312  \n..                  ...       ...         ...        ...       ...         ...  \n394            0.073320  0.000203    0.116618   1.590530  0.000075    1.049014  \n395            0.001737  0.000157    0.002828   1.628010  0.000061    1.001094  \n396            0.055515  0.000157    0.090379   1.628010  0.000061    1.038328  \n397            0.001737  0.000192    0.007623   4.387972  0.000149    1.005931  \n398            0.025248  0.000192    0.110787   4.387972  0.000149    1.096197  \n\n[399 rows x 10 columns]",
      "text/html": "<div>\n<style scoped>\n    .dataframe tbody tr th:only-of-type {\n        vertical-align: middle;\n    }\n\n    .dataframe tbody tr th {\n        vertical-align: top;\n    }\n\n    .dataframe thead th {\n        text-align: right;\n    }\n</style>\n<table border=\"1\" class=\"dataframe\">\n  <thead>\n    <tr style=\"text-align: right;\">\n      <th></th>\n      <th>Unnamed: 0</th>\n      <th>antecedents</th>\n      <th>consequents</th>\n      <th>antecedent support</th>\n      <th>consequent support</th>\n      <th>support</th>\n      <th>confidence</th>\n      <th>lift</th>\n      <th>leverage</th>\n      <th>conviction</th>\n    </tr>\n  </thead>\n  <tbody>\n    <tr>\n      <th>0</th>\n      <td>164</td>\n      <td>['p041']</td>\n      <td>['p193']</td>\n      <td>0.043618</td>\n      <td>0.001737</td>\n      <td>0.000122</td>\n      <td>0.002787</td>\n      <td>1.604178</td>\n      <td>0.000046</td>\n      <td>1.001053</td>\n    </tr>\n    <tr>\n      <th>1</th>\n      <td>165</td>\n      <td>['p193']</td>\n      <td>['p041']</td>\n      <td>0.001737</td>\n      <td>0.043618</td>\n      <td>0.000122</td>\n      <td>0.069971</td>\n      <td>1.604178</td>\n      <td>0.000046</td>\n      <td>1.028336</td>\n    </tr>\n    <tr>\n      <th>2</th>\n      <td>290</td>\n      <td>['p1019']</td>\n      <td>['p193']</td>\n      <td>0.065369</td>\n      <td>0.001737</td>\n      <td>0.000149</td>\n      <td>0.002286</td>\n      <td>1.315706</td>\n      <td>0.000036</td>\n      <td>1.000550</td>\n    </tr>\n    <tr>\n      <th>3</th>\n      <td>291</td>\n      <td>['p193']</td>\n      <td>['p1019']</td>\n      <td>0.001737</td>\n      <td>0.065369</td>\n      <td>0.000149</td>\n      <td>0.086006</td>\n      <td>1.315706</td>\n      <td>0.000036</td>\n      <td>1.022579</td>\n    </tr>\n    <tr>\n      <th>4</th>\n      <td>76</td>\n      <td>['p193']</td>\n      <td>['p170']</td>\n      <td>0.001737</td>\n      <td>0.002084</td>\n      <td>0.000154</td>\n      <td>0.088921</td>\n      <td>42.665361</td>\n      <td>0.000151</td>\n      <td>1.095312</td>\n    </tr>\n    <tr>\n      <th>...</th>\n      <td>...</td>\n      <td>...</td>\n      <td>...</td>\n      <td>...</td>\n      <td>...</td>\n      <td>...</td>\n      <td>...</td>\n      <td>...</td>\n      <td>...</td>\n      <td>...</td>\n    </tr>\n    <tr>\n      <th>394</th>\n      <td>187</td>\n      <td>['p193']</td>\n      <td>['p785']</td>\n      <td>0.001737</td>\n      <td>0.073320</td>\n      <td>0.000203</td>\n      <td>0.116618</td>\n      <td>1.590530</td>\n      <td>0.000075</td>\n      <td>1.049014</td>\n    </tr>\n    <tr>\n      <th>395</th>\n      <td>226</td>\n      <td>['p789']</td>\n      <td>['p193']</td>\n      <td>0.055515</td>\n      <td>0.001737</td>\n      <td>0.000157</td>\n      <td>0.002828</td>\n      <td>1.628010</td>\n      <td>0.000061</td>\n      <td>1.001094</td>\n    </tr>\n    <tr>\n      <th>396</th>\n      <td>227</td>\n      <td>['p193']</td>\n      <td>['p789']</td>\n      <td>0.001737</td>\n      <td>0.055515</td>\n      <td>0.000157</td>\n      <td>0.090379</td>\n      <td>1.628010</td>\n      <td>0.000061</td>\n      <td>1.038328</td>\n    </tr>\n    <tr>\n      <th>397</th>\n      <td>284</td>\n      <td>['p990']</td>\n      <td>['p193']</td>\n      <td>0.025248</td>\n      <td>0.001737</td>\n      <td>0.000192</td>\n      <td>0.007623</td>\n      <td>4.387972</td>\n      <td>0.000149</td>\n      <td>1.005931</td>\n    </tr>\n    <tr>\n      <th>398</th>\n      <td>285</td>\n      <td>['p193']</td>\n      <td>['p990']</td>\n      <td>0.001737</td>\n      <td>0.025248</td>\n      <td>0.000192</td>\n      <td>0.110787</td>\n      <td>4.387972</td>\n      <td>0.000149</td>\n      <td>1.096197</td>\n    </tr>\n  </tbody>\n</table>\n<p>399 rows × 10 columns</p>\n</div>"
     },
     "execution_count": 10,
     "metadata": {},
     "output_type": "execute_result"
    }
   ],
   "source": [
    "rules"
   ],
   "metadata": {
    "collapsed": false,
    "pycharm": {
     "name": "#%%\n"
    }
   }
  },
  {
   "cell_type": "code",
   "execution_count": 11,
   "outputs": [],
   "source": [
    "# Remove the apocrita index column\n",
    "rules = rules.drop(axis=1, labels='Unnamed: 0')"
   ],
   "metadata": {
    "collapsed": false,
    "pycharm": {
     "name": "#%%\n"
    }
   }
  },
  {
   "cell_type": "code",
   "execution_count": 12,
   "outputs": [],
   "source": [
    "# Sort the dataframe by lift values\n",
    "rules = rules.sort_values(axis=0, by='lift', ascending=False)"
   ],
   "metadata": {
    "collapsed": false,
    "pycharm": {
     "name": "#%%\n"
    }
   }
  },
  {
   "cell_type": "code",
   "execution_count": 13,
   "outputs": [
    {
     "data": {
      "text/plain": "                     antecedents                 consequents  \\\n120  ['p190', 'p191', 'p191.11']          ['p193', 'p191.1']   \n125  ['p193', 'p191', 'p191.11']          ['p190', 'p191.1']   \n76              ['p190', 'p191']         ['p191.11', 'p193']   \n81           ['p191.11', 'p193']            ['p190', 'p191']   \n92            ['p190', 'p191.1']         ['p193', 'p191.11']   \n..                           ...                         ...   \n296           ['p411', 'p401.1']                    ['p193']   \n310                     ['p193']  ['p411', 'p401', 'p401.1']   \n299                     ['p193']          ['p411', 'p401.1']   \n294                     ['p193']            ['p411', 'p401']   \n290             ['p411', 'p401']                    ['p193']   \n\n     antecedent support  consequent support   support  confidence  \\\n120            0.000142            0.000147  0.000142    1.000000   \n125            0.000147            0.000142  0.000142    0.965517   \n76             0.000142            0.000147  0.000142    1.000000   \n81             0.000147            0.000142  0.000142    0.965517   \n92             0.000142            0.000147  0.000142    1.000000   \n..                  ...                 ...       ...         ...   \n296            0.093610            0.001737  0.000139    0.001488   \n310            0.001737            0.093610  0.000139    0.080175   \n299            0.001737            0.093610  0.000139    0.080175   \n294            0.001737            0.093709  0.000139    0.080175   \n290            0.093709            0.001737  0.000139    0.001486   \n\n            lift  leverage  conviction  \n120  6808.344828  0.000142         inf  \n125  6808.344828  0.000142   28.995887  \n76   6808.344828  0.000142         inf  \n81   6808.344828  0.000142   28.995887  \n92   6808.344828  0.000142         inf  \n..           ...       ...         ...  \n296     0.856480 -0.000023    0.999750  \n310     0.856480 -0.000023    0.985394  \n299     0.856480 -0.000023    0.985394  \n294     0.855578 -0.000024    0.985287  \n290     0.855578 -0.000024    0.999749  \n\n[399 rows x 9 columns]",
      "text/html": "<div>\n<style scoped>\n    .dataframe tbody tr th:only-of-type {\n        vertical-align: middle;\n    }\n\n    .dataframe tbody tr th {\n        vertical-align: top;\n    }\n\n    .dataframe thead th {\n        text-align: right;\n    }\n</style>\n<table border=\"1\" class=\"dataframe\">\n  <thead>\n    <tr style=\"text-align: right;\">\n      <th></th>\n      <th>antecedents</th>\n      <th>consequents</th>\n      <th>antecedent support</th>\n      <th>consequent support</th>\n      <th>support</th>\n      <th>confidence</th>\n      <th>lift</th>\n      <th>leverage</th>\n      <th>conviction</th>\n    </tr>\n  </thead>\n  <tbody>\n    <tr>\n      <th>120</th>\n      <td>['p190', 'p191', 'p191.11']</td>\n      <td>['p193', 'p191.1']</td>\n      <td>0.000142</td>\n      <td>0.000147</td>\n      <td>0.000142</td>\n      <td>1.000000</td>\n      <td>6808.344828</td>\n      <td>0.000142</td>\n      <td>inf</td>\n    </tr>\n    <tr>\n      <th>125</th>\n      <td>['p193', 'p191', 'p191.11']</td>\n      <td>['p190', 'p191.1']</td>\n      <td>0.000147</td>\n      <td>0.000142</td>\n      <td>0.000142</td>\n      <td>0.965517</td>\n      <td>6808.344828</td>\n      <td>0.000142</td>\n      <td>28.995887</td>\n    </tr>\n    <tr>\n      <th>76</th>\n      <td>['p190', 'p191']</td>\n      <td>['p191.11', 'p193']</td>\n      <td>0.000142</td>\n      <td>0.000147</td>\n      <td>0.000142</td>\n      <td>1.000000</td>\n      <td>6808.344828</td>\n      <td>0.000142</td>\n      <td>inf</td>\n    </tr>\n    <tr>\n      <th>81</th>\n      <td>['p191.11', 'p193']</td>\n      <td>['p190', 'p191']</td>\n      <td>0.000147</td>\n      <td>0.000142</td>\n      <td>0.000142</td>\n      <td>0.965517</td>\n      <td>6808.344828</td>\n      <td>0.000142</td>\n      <td>28.995887</td>\n    </tr>\n    <tr>\n      <th>92</th>\n      <td>['p190', 'p191.1']</td>\n      <td>['p193', 'p191.11']</td>\n      <td>0.000142</td>\n      <td>0.000147</td>\n      <td>0.000142</td>\n      <td>1.000000</td>\n      <td>6808.344828</td>\n      <td>0.000142</td>\n      <td>inf</td>\n    </tr>\n    <tr>\n      <th>...</th>\n      <td>...</td>\n      <td>...</td>\n      <td>...</td>\n      <td>...</td>\n      <td>...</td>\n      <td>...</td>\n      <td>...</td>\n      <td>...</td>\n      <td>...</td>\n    </tr>\n    <tr>\n      <th>296</th>\n      <td>['p411', 'p401.1']</td>\n      <td>['p193']</td>\n      <td>0.093610</td>\n      <td>0.001737</td>\n      <td>0.000139</td>\n      <td>0.001488</td>\n      <td>0.856480</td>\n      <td>-0.000023</td>\n      <td>0.999750</td>\n    </tr>\n    <tr>\n      <th>310</th>\n      <td>['p193']</td>\n      <td>['p411', 'p401', 'p401.1']</td>\n      <td>0.001737</td>\n      <td>0.093610</td>\n      <td>0.000139</td>\n      <td>0.080175</td>\n      <td>0.856480</td>\n      <td>-0.000023</td>\n      <td>0.985394</td>\n    </tr>\n    <tr>\n      <th>299</th>\n      <td>['p193']</td>\n      <td>['p411', 'p401.1']</td>\n      <td>0.001737</td>\n      <td>0.093610</td>\n      <td>0.000139</td>\n      <td>0.080175</td>\n      <td>0.856480</td>\n      <td>-0.000023</td>\n      <td>0.985394</td>\n    </tr>\n    <tr>\n      <th>294</th>\n      <td>['p193']</td>\n      <td>['p411', 'p401']</td>\n      <td>0.001737</td>\n      <td>0.093709</td>\n      <td>0.000139</td>\n      <td>0.080175</td>\n      <td>0.855578</td>\n      <td>-0.000024</td>\n      <td>0.985287</td>\n    </tr>\n    <tr>\n      <th>290</th>\n      <td>['p411', 'p401']</td>\n      <td>['p193']</td>\n      <td>0.093709</td>\n      <td>0.001737</td>\n      <td>0.000139</td>\n      <td>0.001486</td>\n      <td>0.855578</td>\n      <td>-0.000024</td>\n      <td>0.999749</td>\n    </tr>\n  </tbody>\n</table>\n<p>399 rows × 9 columns</p>\n</div>"
     },
     "execution_count": 13,
     "metadata": {},
     "output_type": "execute_result"
    }
   ],
   "source": [
    "rules"
   ],
   "metadata": {
    "collapsed": false,
    "pycharm": {
     "name": "#%%\n"
    }
   }
  },
  {
   "cell_type": "code",
   "execution_count": null,
   "outputs": [],
   "source": [],
   "metadata": {
    "collapsed": false,
    "pycharm": {
     "name": "#%%\n"
    }
   }
  }
 ],
 "metadata": {
  "kernelspec": {
   "display_name": "Python 3",
   "language": "python",
   "name": "python3"
  },
  "language_info": {
   "codemirror_mode": {
    "name": "ipython",
    "version": 2
   },
   "file_extension": ".py",
   "mimetype": "text/x-python",
   "name": "python",
   "nbconvert_exporter": "python",
   "pygments_lexer": "ipython2",
   "version": "2.7.6"
  }
 },
 "nbformat": 4,
 "nbformat_minor": 0
}