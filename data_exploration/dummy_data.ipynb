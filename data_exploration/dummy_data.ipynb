{
 "cells": [
  {
   "cell_type": "code",
   "execution_count": 95,
   "outputs": [],
   "source": [
    "import pandas as pd\n",
    "import random"
   ],
   "metadata": {
    "collapsed": false,
    "pycharm": {
     "name": "#%%\n"
    }
   }
  },
  {
   "cell_type": "markdown",
   "source": [
    "### Write function to create dummy data"
   ],
   "metadata": {
    "collapsed": false,
    "pycharm": {
     "name": "#%% md\n"
    }
   }
  },
  {
   "cell_type": "code",
   "execution_count": 96,
   "outputs": [],
   "source": [
    "def create_dummy_data(list_of_colnames, row_num):\n",
    "\n",
    "    # Create list of list where each sublist is a row containing 1s & 0s\n",
    "    rows = [[random.randint(0, 1) for i in range(len(list_of_colnames))] for i in range(row_num)]\n",
    "    # Using nested list of rows and list of column names create dataframe\n",
    "    dataframe = pd.DataFrame(rows, columns=list_of_colnames)\n",
    "\n",
    "    # Add userId column relevant for Biobank data\n",
    "    dataframe.insert(0, 'userId', list(range(row_num)))\n",
    "\n",
    "    return dataframe"
   ],
   "metadata": {
    "collapsed": false,
    "pycharm": {
     "name": "#%%\n"
    }
   }
  },
  {
   "cell_type": "markdown",
   "source": [],
   "metadata": {
    "collapsed": false,
    "pycharm": {
     "name": "#%% md\n"
    }
   }
  },
  {
   "cell_type": "markdown",
   "source": [
    "### Write function to turn dataframe to tsv"
   ],
   "metadata": {
    "collapsed": false,
    "pycharm": {
     "name": "#%% md\n"
    }
   }
  },
  {
   "cell_type": "code",
   "execution_count": 97,
   "outputs": [],
   "source": [
    "def df_to_tsv(dataframe, filename):\n",
    "\n",
    "    dataframe.to_csv(filename, sep='\\t', index=False)\n",
    "\n",
    "    return f'{filename} created.'"
   ],
   "metadata": {
    "collapsed": false,
    "pycharm": {
     "name": "#%%\n"
    }
   }
  },
  {
   "cell_type": "markdown",
   "source": [
    "### Create actual dummy disease data"
   ],
   "metadata": {
    "collapsed": false,
    "pycharm": {
     "name": "#%% md\n"
    }
   }
  },
  {
   "cell_type": "code",
   "execution_count": 98,
   "outputs": [],
   "source": [
    "# Create list of column headers\n",
    "columns = [f'disease_{i}' for i in range(10)]\n",
    "\n",
    "# Create dataframe with 50,000 rows\n",
    "df = create_dummy_data(columns, 50000)"
   ],
   "metadata": {
    "collapsed": false,
    "pycharm": {
     "name": "#%%\n"
    }
   }
  },
  {
   "cell_type": "markdown",
   "source": [
    "### Write dummy data to tsv file"
   ],
   "metadata": {
    "collapsed": false,
    "pycharm": {
     "name": "#%% md\n"
    }
   }
  },
  {
   "cell_type": "code",
   "execution_count": 99,
   "outputs": [],
   "source": [
    "# df_to_tsv(df, '~/Desktop/GitHub/ThyCa_Multimorbidity_UKBB/data_exploration/disease_dummy_data.tsv')"
   ],
   "metadata": {
    "collapsed": false,
    "pycharm": {
     "name": "#%%\n"
    }
   }
  },
  {
   "cell_type": "markdown",
   "source": [
    "---\n",
    "## Test out exploratory functions on dummy data"
   ],
   "metadata": {
    "collapsed": false,
    "pycharm": {
     "name": "#%% md\n"
    }
   }
  },
  {
   "cell_type": "markdown",
   "source": [
    "### Read in dummy data tsv"
   ],
   "metadata": {
    "collapsed": false,
    "pycharm": {
     "name": "#%% md\n"
    }
   }
  },
  {
   "cell_type": "code",
   "execution_count": 100,
   "outputs": [],
   "source": [
    "# Function to read in dataframe from tsv\n",
    "def tsv_to_df(tsv, index_col=False):\n",
    "    data = pd.read_csv(tsv, sep='\\t', header=0, index_col=index_col)  # Read in tsv\n",
    "    return data"
   ],
   "metadata": {
    "collapsed": false,
    "pycharm": {
     "name": "#%%\n"
    }
   }
  },
  {
   "cell_type": "code",
   "execution_count": 101,
   "outputs": [],
   "source": [
    "# Read in df from tsv\n",
    "data = tsv_to_df('~/Desktop/GitHub/ThyCa_Multimorbidity_UKBB/data_exploration/disease_dummy_data.tsv')"
   ],
   "metadata": {
    "collapsed": false,
    "pycharm": {
     "name": "#%%\n"
    }
   }
  },
  {
   "cell_type": "markdown",
   "source": [
    "### Find the frequency of each column (disease)"
   ],
   "metadata": {
    "collapsed": false,
    "pycharm": {
     "name": "#%% md\n"
    }
   }
  },
  {
   "cell_type": "code",
   "execution_count": 120,
   "outputs": [],
   "source": [
    "# Function for frequency of each column in dataframe (assuming binary data)\n",
    "def all_col_frequency(tsv_file, target_value, index_col=False):  # Return tsv with frequency of all columns\n",
    "\n",
    "    data = pd.read_csv(tsv_file, sep='\\t', header=0, index_col=index_col)  # Read in tsv\n",
    "    row_count = data.shape[0]  # Row count\n",
    "    # List of column frequencies\n",
    "    out_df_rows = [[p.count(target_value)/row_count] for p in [list(data[i]) for i in data.columns]]\n",
    "    # Dataframe with two columns disease name and frequency\n",
    "    out_df = pd.DataFrame(out_df_rows, columns=['frequency'])\n",
    "    out_df.insert(0, 'diseases', list(data.columns))\n",
    "\n",
    "    return out_df\n"
   ],
   "metadata": {
    "collapsed": false,
    "pycharm": {
     "name": "#%%\n"
    }
   }
  },
  {
   "cell_type": "code",
   "execution_count": 121,
   "outputs": [],
   "source": [
    "# Output frequency dataframe, index_col set to userId so userId is ignored\n",
    "data_freq = all_col_frequency('~/Desktop/GitHub/ThyCa_Multimorbidity_UKBB/data_exploration/disease_dummy_data.tsv', 1, 0)"
   ],
   "metadata": {
    "collapsed": false,
    "pycharm": {
     "name": "#%%\n"
    }
   }
  },
  {
   "cell_type": "code",
   "execution_count": 122,
   "outputs": [
    {
     "data": {
      "text/plain": "    diseases  frequency\n0  disease_0    0.49518\n1  disease_1    0.49880\n2  disease_2    0.50100\n3  disease_3    0.49838\n4  disease_4    0.50184\n5  disease_5    0.49554\n6  disease_6    0.49740\n7  disease_7    0.49822\n8  disease_8    0.50094\n9  disease_9    0.50022",
      "text/html": "<div>\n<style scoped>\n    .dataframe tbody tr th:only-of-type {\n        vertical-align: middle;\n    }\n\n    .dataframe tbody tr th {\n        vertical-align: top;\n    }\n\n    .dataframe thead th {\n        text-align: right;\n    }\n</style>\n<table border=\"1\" class=\"dataframe\">\n  <thead>\n    <tr style=\"text-align: right;\">\n      <th></th>\n      <th>diseases</th>\n      <th>frequency</th>\n    </tr>\n  </thead>\n  <tbody>\n    <tr>\n      <th>0</th>\n      <td>disease_0</td>\n      <td>0.49518</td>\n    </tr>\n    <tr>\n      <th>1</th>\n      <td>disease_1</td>\n      <td>0.49880</td>\n    </tr>\n    <tr>\n      <th>2</th>\n      <td>disease_2</td>\n      <td>0.50100</td>\n    </tr>\n    <tr>\n      <th>3</th>\n      <td>disease_3</td>\n      <td>0.49838</td>\n    </tr>\n    <tr>\n      <th>4</th>\n      <td>disease_4</td>\n      <td>0.50184</td>\n    </tr>\n    <tr>\n      <th>5</th>\n      <td>disease_5</td>\n      <td>0.49554</td>\n    </tr>\n    <tr>\n      <th>6</th>\n      <td>disease_6</td>\n      <td>0.49740</td>\n    </tr>\n    <tr>\n      <th>7</th>\n      <td>disease_7</td>\n      <td>0.49822</td>\n    </tr>\n    <tr>\n      <th>8</th>\n      <td>disease_8</td>\n      <td>0.50094</td>\n    </tr>\n    <tr>\n      <th>9</th>\n      <td>disease_9</td>\n      <td>0.50022</td>\n    </tr>\n  </tbody>\n</table>\n</div>"
     },
     "execution_count": 122,
     "metadata": {},
     "output_type": "execute_result"
    }
   ],
   "source": [
    "data_freq"
   ],
   "metadata": {
    "collapsed": false,
    "pycharm": {
     "name": "#%%\n"
    }
   }
  },
  {
   "cell_type": "markdown",
   "source": [
    "### Create dummy dictionary dataframe (contains phecodes & disease names)"
   ],
   "metadata": {
    "collapsed": false,
    "pycharm": {
     "name": "#%% md\n"
    }
   }
  },
  {
   "cell_type": "code",
   "execution_count": 105,
   "outputs": [],
   "source": [
    "# Order different to data_freq for better testing\n",
    "dictionary = pd.DataFrame({'FieldID': ['disease_0', 'disease_7', 'disease_8', 'disease_2', 'disease_1', 'disease_9',\n",
    "                                       'disease_3', 'disease_10', 'disease_4', 'disease_5', 'disease_6'],\n",
    "                           'Field': [0, 7, 8, 2, 1, 9, 3, 10, 4, 5, 6]})"
   ],
   "metadata": {
    "collapsed": false,
    "pycharm": {
     "name": "#%%\n"
    }
   }
  },
  {
   "cell_type": "markdown",
   "source": [
    "### Convert phecodes to disease names"
   ],
   "metadata": {
    "collapsed": false,
    "pycharm": {
     "name": "#%% md\n"
    }
   }
  },
  {
   "cell_type": "code",
   "execution_count": 106,
   "outputs": [],
   "source": [
    "# Function for converting phecodes to disease names. Works when disease names contained in a column.\n",
    "def phecode_col_conversion(data, dictionary_df, replace_col, key_col, new_col, index_col=False):\n",
    "\n",
    "    dataframe = data # re-assign dataframe\n",
    "    dataframe = dataframe.drop(0, axis=0)  # Drop userId\n",
    "    r = list(dataframe[replace_col])  # Create a list of phecodes in existing df\n",
    "    new = []  # New column entries (disease names)\n",
    "\n",
    "    for item in r:  # Iterate over phecodes\n",
    "        # Iterate over dictionary df keys (phecodes) and values (disease names)\n",
    "        for key, value in zip(list(dictionary_df[key_col]), list(dictionary_df[new_col])):\n",
    "            if item == key:  # If phecode in current df\n",
    "                new.append(value)  # Add corresponding disease name to new list\n",
    "            else:  # If not pass\n",
    "                pass\n",
    "\n",
    "    dataframe[replace_col] = new  # Replace phecodes in disease column with disease names\n",
    "\n",
    "    return dataframe  # Return new dataframe\n"
   ],
   "metadata": {
    "collapsed": false,
    "pycharm": {
     "name": "#%%\n"
    }
   }
  },
  {
   "cell_type": "code",
   "execution_count": 107,
   "outputs": [],
   "source": [
    "# Function for converting phecodes to disease names. Works when disease names are the headers.\n",
    "def phecode_header_conversion(data, dictionary_df, key_col, new_col, index_col=False):\n",
    "\n",
    "    dataframe = data # re-assign dataframe\n",
    "    dataframe = dataframe.drop(0, axis=1)  # Drop userId\n",
    "    r = list(dataframe.columns)  # Create a list of phecodes in existing df\n",
    "    new = []  # New column entries (disease names)\n",
    "\n",
    "    for item in r:  # Iterate over phecodes\n",
    "        # Iterate over dictionary df keys (phecodes) and values (disease names)\n",
    "        for key, value in zip(list(dictionary_df[key_col]), list(dictionary_df[new_col])):\n",
    "            if item == key:  # If phecode in current df\n",
    "                new.append(value)  # Add corresponding disease name to new list\n",
    "            else:  # If not pass\n",
    "                pass\n",
    "\n",
    "    dataframe.set_axi(new, 1, inplace=True)   # Replace phecodes in disease column with disease names\n",
    "\n",
    "    return dataframe  # Return new dataframe"
   ],
   "metadata": {
    "collapsed": false,
    "pycharm": {
     "name": "#%%\n"
    }
   }
  },
  {
   "cell_type": "code",
   "execution_count": 108,
   "outputs": [],
   "source": [
    " disease_name_freq = phecode_col_conversion(data_freq, dictionary, 'diseases', 'FieldID', 'Field')"
   ],
   "metadata": {
    "collapsed": false,
    "pycharm": {
     "name": "#%%\n"
    }
   }
  },
  {
   "cell_type": "code",
   "execution_count": 109,
   "outputs": [
    {
     "data": {
      "text/plain": "   diseases  frequency\n0         0    0.49518\n1         1    0.49880\n2         2    0.50100\n3         3    0.49838\n4         4    0.50184\n5         5    0.49554\n6         6    0.49740\n7         7    0.49822\n8         8    0.50094\n9         9    0.50022",
      "text/html": "<div>\n<style scoped>\n    .dataframe tbody tr th:only-of-type {\n        vertical-align: middle;\n    }\n\n    .dataframe tbody tr th {\n        vertical-align: top;\n    }\n\n    .dataframe thead th {\n        text-align: right;\n    }\n</style>\n<table border=\"1\" class=\"dataframe\">\n  <thead>\n    <tr style=\"text-align: right;\">\n      <th></th>\n      <th>diseases</th>\n      <th>frequency</th>\n    </tr>\n  </thead>\n  <tbody>\n    <tr>\n      <th>0</th>\n      <td>0</td>\n      <td>0.49518</td>\n    </tr>\n    <tr>\n      <th>1</th>\n      <td>1</td>\n      <td>0.49880</td>\n    </tr>\n    <tr>\n      <th>2</th>\n      <td>2</td>\n      <td>0.50100</td>\n    </tr>\n    <tr>\n      <th>3</th>\n      <td>3</td>\n      <td>0.49838</td>\n    </tr>\n    <tr>\n      <th>4</th>\n      <td>4</td>\n      <td>0.50184</td>\n    </tr>\n    <tr>\n      <th>5</th>\n      <td>5</td>\n      <td>0.49554</td>\n    </tr>\n    <tr>\n      <th>6</th>\n      <td>6</td>\n      <td>0.49740</td>\n    </tr>\n    <tr>\n      <th>7</th>\n      <td>7</td>\n      <td>0.49822</td>\n    </tr>\n    <tr>\n      <th>8</th>\n      <td>8</td>\n      <td>0.50094</td>\n    </tr>\n    <tr>\n      <th>9</th>\n      <td>9</td>\n      <td>0.50022</td>\n    </tr>\n  </tbody>\n</table>\n</div>"
     },
     "execution_count": 109,
     "metadata": {},
     "output_type": "execute_result"
    }
   ],
   "source": [
    "disease_name_freq"
   ],
   "metadata": {
    "collapsed": false,
    "pycharm": {
     "name": "#%%\n"
    }
   }
  },
  {
   "cell_type": "markdown",
   "source": [
    "### Find the frequency and count for specific disease"
   ],
   "metadata": {
    "collapsed": false,
    "pycharm": {
     "name": "#%% md\n"
    }
   }
  },
  {
   "cell_type": "code",
   "execution_count": 110,
   "outputs": [],
   "source": [
    "def find_col_frequency(tsv_file, colname, target_value):  # Frequency of column value\n",
    "\n",
    "    data = pd.read_csv(tsv_file, sep='\\t', header=0, index_col=0)  # Read in tsv\n",
    "    participant_num = len(list(data[colname]))  # Number of rows/participants\n",
    "    col_of_interest = list(data[colname])  # Turn target column into list\n",
    "    count = col_of_interest.count(target_value)  # Count number of target column value (e.g. 1) in list\n",
    "    frequency = count/participant_num  # Find frequency of target value\n",
    "\n",
    "    return count, frequency  # Return value count and frequency"
   ],
   "metadata": {
    "collapsed": false,
    "pycharm": {
     "name": "#%%\n"
    }
   }
  },
  {
   "cell_type": "code",
   "execution_count": 111,
   "outputs": [],
   "source": [
    "d0_count, d0_freq = find_col_frequency('~/Desktop/GitHub/ThyCa_Multimorbidity_UKBB/data_exploration/disease_dummy_data.tsv',\n",
    "                                       'disease_0', 1)"
   ],
   "metadata": {
    "collapsed": false,
    "pycharm": {
     "name": "#%%\n"
    }
   }
  },
  {
   "cell_type": "code",
   "execution_count": 112,
   "outputs": [
    {
     "data": {
      "text/plain": "24759"
     },
     "execution_count": 112,
     "metadata": {},
     "output_type": "execute_result"
    }
   ],
   "source": [
    "d0_count"
   ],
   "metadata": {
    "collapsed": false,
    "pycharm": {
     "name": "#%%\n"
    }
   }
  },
  {
   "cell_type": "code",
   "execution_count": 113,
   "outputs": [
    {
     "data": {
      "text/plain": "0.49518"
     },
     "execution_count": 113,
     "metadata": {},
     "output_type": "execute_result"
    }
   ],
   "source": [
    "d0_freq"
   ],
   "metadata": {
    "collapsed": false,
    "pycharm": {
     "name": "#%%\n"
    }
   }
  },
  {
   "cell_type": "markdown",
   "source": [
    "### Subset dataframe - e.g. select only participants with ThyCa"
   ],
   "metadata": {
    "collapsed": false,
    "pycharm": {
     "name": "#%% md\n"
    }
   }
  },
  {
   "cell_type": "code",
   "execution_count": 114,
   "outputs": [],
   "source": [
    "# Select subset of dataframe based on column values\n",
    "def subset_df(dataframe, col_of_interest, col_value):\n",
    "    df = dataframe.loc[dataframe[col_of_interest] == col_value]  # Select rows based on column value\n",
    "    return df  # Return dataframe subset"
   ],
   "metadata": {
    "collapsed": false,
    "pycharm": {
     "name": "#%%\n"
    }
   }
  },
  {
   "cell_type": "code",
   "execution_count": 115,
   "outputs": [],
   "source": [
    "disease_1_df = subset_df(data, 'disease_1', 1)"
   ],
   "metadata": {
    "collapsed": false,
    "pycharm": {
     "name": "#%%\n"
    }
   }
  },
  {
   "cell_type": "code",
   "execution_count": 116,
   "outputs": [
    {
     "data": {
      "text/plain": "       userId  disease_0  disease_1  disease_2  disease_3  disease_4  \\\n0           0          0          1          0          1          1   \n1           1          0          1          1          1          0   \n2           2          0          1          1          0          1   \n5           5          1          1          0          0          0   \n6           6          1          1          1          1          1   \n...       ...        ...        ...        ...        ...        ...   \n49988   49988          1          1          0          0          1   \n49989   49989          0          1          1          1          0   \n49992   49992          1          1          1          1          0   \n49995   49995          0          1          1          1          0   \n49998   49998          1          1          0          0          1   \n\n       disease_5  disease_6  disease_7  disease_8  disease_9  \n0              1          0          1          1          0  \n1              0          1          0          0          1  \n2              0          1          1          0          1  \n5              0          1          1          1          1  \n6              0          0          0          1          0  \n...          ...        ...        ...        ...        ...  \n49988          0          1          0          0          0  \n49989          0          1          0          0          0  \n49992          1          0          1          1          0  \n49995          1          0          0          0          1  \n49998          1          1          0          1          1  \n\n[24940 rows x 11 columns]",
      "text/html": "<div>\n<style scoped>\n    .dataframe tbody tr th:only-of-type {\n        vertical-align: middle;\n    }\n\n    .dataframe tbody tr th {\n        vertical-align: top;\n    }\n\n    .dataframe thead th {\n        text-align: right;\n    }\n</style>\n<table border=\"1\" class=\"dataframe\">\n  <thead>\n    <tr style=\"text-align: right;\">\n      <th></th>\n      <th>userId</th>\n      <th>disease_0</th>\n      <th>disease_1</th>\n      <th>disease_2</th>\n      <th>disease_3</th>\n      <th>disease_4</th>\n      <th>disease_5</th>\n      <th>disease_6</th>\n      <th>disease_7</th>\n      <th>disease_8</th>\n      <th>disease_9</th>\n    </tr>\n  </thead>\n  <tbody>\n    <tr>\n      <th>0</th>\n      <td>0</td>\n      <td>0</td>\n      <td>1</td>\n      <td>0</td>\n      <td>1</td>\n      <td>1</td>\n      <td>1</td>\n      <td>0</td>\n      <td>1</td>\n      <td>1</td>\n      <td>0</td>\n    </tr>\n    <tr>\n      <th>1</th>\n      <td>1</td>\n      <td>0</td>\n      <td>1</td>\n      <td>1</td>\n      <td>1</td>\n      <td>0</td>\n      <td>0</td>\n      <td>1</td>\n      <td>0</td>\n      <td>0</td>\n      <td>1</td>\n    </tr>\n    <tr>\n      <th>2</th>\n      <td>2</td>\n      <td>0</td>\n      <td>1</td>\n      <td>1</td>\n      <td>0</td>\n      <td>1</td>\n      <td>0</td>\n      <td>1</td>\n      <td>1</td>\n      <td>0</td>\n      <td>1</td>\n    </tr>\n    <tr>\n      <th>5</th>\n      <td>5</td>\n      <td>1</td>\n      <td>1</td>\n      <td>0</td>\n      <td>0</td>\n      <td>0</td>\n      <td>0</td>\n      <td>1</td>\n      <td>1</td>\n      <td>1</td>\n      <td>1</td>\n    </tr>\n    <tr>\n      <th>6</th>\n      <td>6</td>\n      <td>1</td>\n      <td>1</td>\n      <td>1</td>\n      <td>1</td>\n      <td>1</td>\n      <td>0</td>\n      <td>0</td>\n      <td>0</td>\n      <td>1</td>\n      <td>0</td>\n    </tr>\n    <tr>\n      <th>...</th>\n      <td>...</td>\n      <td>...</td>\n      <td>...</td>\n      <td>...</td>\n      <td>...</td>\n      <td>...</td>\n      <td>...</td>\n      <td>...</td>\n      <td>...</td>\n      <td>...</td>\n      <td>...</td>\n    </tr>\n    <tr>\n      <th>49988</th>\n      <td>49988</td>\n      <td>1</td>\n      <td>1</td>\n      <td>0</td>\n      <td>0</td>\n      <td>1</td>\n      <td>0</td>\n      <td>1</td>\n      <td>0</td>\n      <td>0</td>\n      <td>0</td>\n    </tr>\n    <tr>\n      <th>49989</th>\n      <td>49989</td>\n      <td>0</td>\n      <td>1</td>\n      <td>1</td>\n      <td>1</td>\n      <td>0</td>\n      <td>0</td>\n      <td>1</td>\n      <td>0</td>\n      <td>0</td>\n      <td>0</td>\n    </tr>\n    <tr>\n      <th>49992</th>\n      <td>49992</td>\n      <td>1</td>\n      <td>1</td>\n      <td>1</td>\n      <td>1</td>\n      <td>0</td>\n      <td>1</td>\n      <td>0</td>\n      <td>1</td>\n      <td>1</td>\n      <td>0</td>\n    </tr>\n    <tr>\n      <th>49995</th>\n      <td>49995</td>\n      <td>0</td>\n      <td>1</td>\n      <td>1</td>\n      <td>1</td>\n      <td>0</td>\n      <td>1</td>\n      <td>0</td>\n      <td>0</td>\n      <td>0</td>\n      <td>1</td>\n    </tr>\n    <tr>\n      <th>49998</th>\n      <td>49998</td>\n      <td>1</td>\n      <td>1</td>\n      <td>0</td>\n      <td>0</td>\n      <td>1</td>\n      <td>1</td>\n      <td>1</td>\n      <td>0</td>\n      <td>1</td>\n      <td>1</td>\n    </tr>\n  </tbody>\n</table>\n<p>24940 rows × 11 columns</p>\n</div>"
     },
     "execution_count": 116,
     "metadata": {},
     "output_type": "execute_result"
    }
   ],
   "source": [
    "disease_1_df"
   ],
   "metadata": {
    "collapsed": false,
    "pycharm": {
     "name": "#%%\n"
    }
   }
  },
  {
   "cell_type": "markdown",
   "source": [
    "### Subset dataframe based on items in a list"
   ],
   "metadata": {
    "collapsed": false,
    "pycharm": {
     "name": "#%% md\n"
    }
   }
  },
  {
   "cell_type": "code",
   "execution_count": 125,
   "outputs": [],
   "source": [
    "# Select subset of dataframe based on list\n",
    "def subset_df_list(dataframe, col_of_interest, col_value_list):\n",
    "    df = dataframe.loc[dataframe[col_of_interest].isin(col_value_list)]  # Select rows based on column value\n",
    "    return df  # Return dataframe subset"
   ],
   "metadata": {
    "collapsed": false,
    "pycharm": {
     "name": "#%%\n"
    }
   }
  },
  {
   "cell_type": "code",
   "execution_count": 126,
   "outputs": [],
   "source": [
    "# Select disease_1 patients using list of their userIds\n",
    "disease_1_df_v2 = subset_df_list(data, 'userId', list(disease_1_df['userId']))"
   ],
   "metadata": {
    "collapsed": false,
    "pycharm": {
     "name": "#%%\n"
    }
   }
  },
  {
   "cell_type": "code",
   "execution_count": 127,
   "outputs": [
    {
     "data": {
      "text/plain": "       userId  disease_0  disease_1  disease_2  disease_3  disease_4  \\\n0           0          0          1          0          1          1   \n1           1          0          1          1          1          0   \n2           2          0          1          1          0          1   \n5           5          1          1          0          0          0   \n6           6          1          1          1          1          1   \n...       ...        ...        ...        ...        ...        ...   \n49988   49988          1          1          0          0          1   \n49989   49989          0          1          1          1          0   \n49992   49992          1          1          1          1          0   \n49995   49995          0          1          1          1          0   \n49998   49998          1          1          0          0          1   \n\n       disease_5  disease_6  disease_7  disease_8  disease_9  \n0              1          0          1          1          0  \n1              0          1          0          0          1  \n2              0          1          1          0          1  \n5              0          1          1          1          1  \n6              0          0          0          1          0  \n...          ...        ...        ...        ...        ...  \n49988          0          1          0          0          0  \n49989          0          1          0          0          0  \n49992          1          0          1          1          0  \n49995          1          0          0          0          1  \n49998          1          1          0          1          1  \n\n[24940 rows x 11 columns]",
      "text/html": "<div>\n<style scoped>\n    .dataframe tbody tr th:only-of-type {\n        vertical-align: middle;\n    }\n\n    .dataframe tbody tr th {\n        vertical-align: top;\n    }\n\n    .dataframe thead th {\n        text-align: right;\n    }\n</style>\n<table border=\"1\" class=\"dataframe\">\n  <thead>\n    <tr style=\"text-align: right;\">\n      <th></th>\n      <th>userId</th>\n      <th>disease_0</th>\n      <th>disease_1</th>\n      <th>disease_2</th>\n      <th>disease_3</th>\n      <th>disease_4</th>\n      <th>disease_5</th>\n      <th>disease_6</th>\n      <th>disease_7</th>\n      <th>disease_8</th>\n      <th>disease_9</th>\n    </tr>\n  </thead>\n  <tbody>\n    <tr>\n      <th>0</th>\n      <td>0</td>\n      <td>0</td>\n      <td>1</td>\n      <td>0</td>\n      <td>1</td>\n      <td>1</td>\n      <td>1</td>\n      <td>0</td>\n      <td>1</td>\n      <td>1</td>\n      <td>0</td>\n    </tr>\n    <tr>\n      <th>1</th>\n      <td>1</td>\n      <td>0</td>\n      <td>1</td>\n      <td>1</td>\n      <td>1</td>\n      <td>0</td>\n      <td>0</td>\n      <td>1</td>\n      <td>0</td>\n      <td>0</td>\n      <td>1</td>\n    </tr>\n    <tr>\n      <th>2</th>\n      <td>2</td>\n      <td>0</td>\n      <td>1</td>\n      <td>1</td>\n      <td>0</td>\n      <td>1</td>\n      <td>0</td>\n      <td>1</td>\n      <td>1</td>\n      <td>0</td>\n      <td>1</td>\n    </tr>\n    <tr>\n      <th>5</th>\n      <td>5</td>\n      <td>1</td>\n      <td>1</td>\n      <td>0</td>\n      <td>0</td>\n      <td>0</td>\n      <td>0</td>\n      <td>1</td>\n      <td>1</td>\n      <td>1</td>\n      <td>1</td>\n    </tr>\n    <tr>\n      <th>6</th>\n      <td>6</td>\n      <td>1</td>\n      <td>1</td>\n      <td>1</td>\n      <td>1</td>\n      <td>1</td>\n      <td>0</td>\n      <td>0</td>\n      <td>0</td>\n      <td>1</td>\n      <td>0</td>\n    </tr>\n    <tr>\n      <th>...</th>\n      <td>...</td>\n      <td>...</td>\n      <td>...</td>\n      <td>...</td>\n      <td>...</td>\n      <td>...</td>\n      <td>...</td>\n      <td>...</td>\n      <td>...</td>\n      <td>...</td>\n      <td>...</td>\n    </tr>\n    <tr>\n      <th>49988</th>\n      <td>49988</td>\n      <td>1</td>\n      <td>1</td>\n      <td>0</td>\n      <td>0</td>\n      <td>1</td>\n      <td>0</td>\n      <td>1</td>\n      <td>0</td>\n      <td>0</td>\n      <td>0</td>\n    </tr>\n    <tr>\n      <th>49989</th>\n      <td>49989</td>\n      <td>0</td>\n      <td>1</td>\n      <td>1</td>\n      <td>1</td>\n      <td>0</td>\n      <td>0</td>\n      <td>1</td>\n      <td>0</td>\n      <td>0</td>\n      <td>0</td>\n    </tr>\n    <tr>\n      <th>49992</th>\n      <td>49992</td>\n      <td>1</td>\n      <td>1</td>\n      <td>1</td>\n      <td>1</td>\n      <td>0</td>\n      <td>1</td>\n      <td>0</td>\n      <td>1</td>\n      <td>1</td>\n      <td>0</td>\n    </tr>\n    <tr>\n      <th>49995</th>\n      <td>49995</td>\n      <td>0</td>\n      <td>1</td>\n      <td>1</td>\n      <td>1</td>\n      <td>0</td>\n      <td>1</td>\n      <td>0</td>\n      <td>0</td>\n      <td>0</td>\n      <td>1</td>\n    </tr>\n    <tr>\n      <th>49998</th>\n      <td>49998</td>\n      <td>1</td>\n      <td>1</td>\n      <td>0</td>\n      <td>0</td>\n      <td>1</td>\n      <td>1</td>\n      <td>1</td>\n      <td>0</td>\n      <td>1</td>\n      <td>1</td>\n    </tr>\n  </tbody>\n</table>\n<p>24940 rows × 11 columns</p>\n</div>"
     },
     "execution_count": 127,
     "metadata": {},
     "output_type": "execute_result"
    }
   ],
   "source": [
    "disease_1_df_v2"
   ],
   "metadata": {
    "collapsed": false,
    "pycharm": {
     "name": "#%%\n"
    }
   }
  },
  {
   "cell_type": "code",
   "execution_count": 129,
   "outputs": [],
   "source": [],
   "metadata": {
    "collapsed": false,
    "pycharm": {
     "name": "#%%\n"
    }
   }
  },
  {
   "cell_type": "code",
   "execution_count": null,
   "outputs": [],
   "source": [],
   "metadata": {
    "collapsed": false,
    "pycharm": {
     "name": "#%%\n"
    }
   }
  }
 ],
 "metadata": {
  "kernelspec": {
   "display_name": "Python 3",
   "language": "python",
   "name": "python3"
  },
  "language_info": {
   "codemirror_mode": {
    "name": "ipython",
    "version": 2
   },
   "file_extension": ".py",
   "mimetype": "text/x-python",
   "name": "python",
   "nbconvert_exporter": "python",
   "pygments_lexer": "ipython2",
   "version": "2.7.6"
  }
 },
 "nbformat": 4,
 "nbformat_minor": 0
}