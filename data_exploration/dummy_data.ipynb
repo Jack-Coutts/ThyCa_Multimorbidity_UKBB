{
 "cells": [
  {
   "cell_type": "code",
   "execution_count": 1,
   "outputs": [],
   "source": [
    "import pandas as pd\n",
    "import random"
   ],
   "metadata": {
    "collapsed": false,
    "pycharm": {
     "name": "#%%\n"
    }
   }
  },
  {
   "cell_type": "markdown",
   "source": [
    "### Write function to create dummy data"
   ],
   "metadata": {
    "collapsed": false,
    "pycharm": {
     "name": "#%% md\n"
    }
   }
  },
  {
   "cell_type": "code",
   "execution_count": 3,
   "outputs": [],
   "source": [
    "def create_dummy_data(list_of_colnames, row_num):\n",
    "\n",
    "    # Create list of list where each sublist is a row containing 1s & 0s\n",
    "    rows = [[random.randint(0, 1) for i in range(len(list_of_colnames))] for i in range(row_num)]\n",
    "    # Using nested list of rows and list of column names create dataframe\n",
    "    dataframe = pd.DataFrame(rows, columns=list_of_colnames)\n",
    "\n",
    "    # Add userId column relevant for Biobank data\n",
    "    dataframe.insert(0, 'userId', list(range(row_num)))\n",
    "\n",
    "    return dataframe"
   ],
   "metadata": {
    "collapsed": false,
    "pycharm": {
     "name": "#%%\n"
    }
   }
  },
  {
   "cell_type": "markdown",
   "source": [],
   "metadata": {
    "collapsed": false,
    "pycharm": {
     "name": "#%% md\n"
    }
   }
  },
  {
   "cell_type": "markdown",
   "source": [
    "### Write function to turn dataframe to tsv"
   ],
   "metadata": {
    "collapsed": false,
    "pycharm": {
     "name": "#%% md\n"
    }
   }
  },
  {
   "cell_type": "code",
   "execution_count": 4,
   "outputs": [],
   "source": [
    "def df_to_tsv(dataframe, filename):\n",
    "\n",
    "    dataframe.to_csv(filename, sep='\\t', index=False)\n",
    "\n",
    "    return f'{filename} created.'"
   ],
   "metadata": {
    "collapsed": false,
    "pycharm": {
     "name": "#%%\n"
    }
   }
  },
  {
   "cell_type": "markdown",
   "source": [
    "### Create actual dummy disease data"
   ],
   "metadata": {
    "collapsed": false,
    "pycharm": {
     "name": "#%% md\n"
    }
   }
  },
  {
   "cell_type": "code",
   "execution_count": 5,
   "outputs": [],
   "source": [
    "# Create list of column headers\n",
    "columns = [f'disease_{i}' for i in range(10)]\n",
    "\n",
    "# Create dataframe with 50,000 rows\n",
    "df = create_dummy_data(columns, 50000)"
   ],
   "metadata": {
    "collapsed": false,
    "pycharm": {
     "name": "#%%\n"
    }
   }
  },
  {
   "cell_type": "markdown",
   "source": [
    "### Write dummy data to tsv file"
   ],
   "metadata": {
    "collapsed": false,
    "pycharm": {
     "name": "#%% md\n"
    }
   }
  },
  {
   "cell_type": "code",
   "execution_count": 6,
   "outputs": [],
   "source": [
    "# df_to_tsv(df, '~/Desktop/GitHub/ThyCa_Multimorbidity_UKBB/data_exploration/disease_dummy_data.tsv')"
   ],
   "metadata": {
    "collapsed": false,
    "pycharm": {
     "name": "#%%\n"
    }
   }
  },
  {
   "cell_type": "markdown",
   "source": [
    "---\n",
    "## Test out exploratory functions on dummy data"
   ],
   "metadata": {
    "collapsed": false,
    "pycharm": {
     "name": "#%% md\n"
    }
   }
  },
  {
   "cell_type": "markdown",
   "source": [
    "### Read in dummy data tsv"
   ],
   "metadata": {
    "collapsed": false,
    "pycharm": {
     "name": "#%% md\n"
    }
   }
  },
  {
   "cell_type": "code",
   "execution_count": 20,
   "outputs": [],
   "source": [
    "# Function to read in dataframe from tsv\n",
    "def tsv_to_df(tsv, index_col=False):\n",
    "    data = pd.read_csv(tsv, sep='\\t', header=0, index_col=index_col)  # Read in tsv\n",
    "    return data"
   ],
   "metadata": {
    "collapsed": false,
    "pycharm": {
     "name": "#%%\n"
    }
   }
  },
  {
   "cell_type": "code",
   "execution_count": 21,
   "outputs": [],
   "source": [
    "# Read in df from tsv\n",
    "data = tsv_to_df('~/Desktop/GitHub/ThyCa_Multimorbidity_UKBB/data_exploration/disease_dummy_data.tsv')"
   ],
   "metadata": {
    "collapsed": false,
    "pycharm": {
     "name": "#%%\n"
    }
   }
  },
  {
   "cell_type": "markdown",
   "source": [
    "### Find the frequency of each column (disease)"
   ],
   "metadata": {
    "collapsed": false,
    "pycharm": {
     "name": "#%% md\n"
    }
   }
  },
  {
   "cell_type": "code",
   "execution_count": 9,
   "outputs": [],
   "source": [
    "def all_col_frequency(tsv_file, target_value, index_col=False):  # Return tsv with frequency of all columns\n",
    "\n",
    "    data = pd.read_csv(tsv_file, sep='\\t', header=0, index_col=index_col)  # Read in tsv\n",
    "    row_count = data.shape[0]  # Row count\n",
    "    # List of column frequencies\n",
    "    out_df_rows = [[p.count(target_value)/row_count] for p in [list(data[i]) for i in data.columns]]\n",
    "    # Dataframe with column name as index and freq as column\n",
    "    out_df = pd.DataFrame(out_df_rows, columns=['Frequency'])\n",
    "    out_df.insert(0, 'diseases', list(data.columns))\n",
    "\n",
    "    return out_df\n"
   ],
   "metadata": {
    "collapsed": false,
    "pycharm": {
     "name": "#%%\n"
    }
   }
  },
  {
   "cell_type": "code",
   "execution_count": 10,
   "outputs": [],
   "source": [
    "data_freq = all_col_frequency('~/Desktop/GitHub/ThyCa_Multimorbidity_UKBB/data_exploration/disease_dummy_data.tsv', 1, 0)"
   ],
   "metadata": {
    "collapsed": false,
    "pycharm": {
     "name": "#%%\n"
    }
   }
  },
  {
   "cell_type": "code",
   "execution_count": 11,
   "outputs": [
    {
     "data": {
      "text/plain": "    diseases  Frequency\n0  disease_0    0.49518\n1  disease_1    0.49880\n2  disease_2    0.50100\n3  disease_3    0.49838\n4  disease_4    0.50184\n5  disease_5    0.49554\n6  disease_6    0.49740\n7  disease_7    0.49822\n8  disease_8    0.50094\n9  disease_9    0.50022",
      "text/html": "<div>\n<style scoped>\n    .dataframe tbody tr th:only-of-type {\n        vertical-align: middle;\n    }\n\n    .dataframe tbody tr th {\n        vertical-align: top;\n    }\n\n    .dataframe thead th {\n        text-align: right;\n    }\n</style>\n<table border=\"1\" class=\"dataframe\">\n  <thead>\n    <tr style=\"text-align: right;\">\n      <th></th>\n      <th>diseases</th>\n      <th>Frequency</th>\n    </tr>\n  </thead>\n  <tbody>\n    <tr>\n      <th>0</th>\n      <td>disease_0</td>\n      <td>0.49518</td>\n    </tr>\n    <tr>\n      <th>1</th>\n      <td>disease_1</td>\n      <td>0.49880</td>\n    </tr>\n    <tr>\n      <th>2</th>\n      <td>disease_2</td>\n      <td>0.50100</td>\n    </tr>\n    <tr>\n      <th>3</th>\n      <td>disease_3</td>\n      <td>0.49838</td>\n    </tr>\n    <tr>\n      <th>4</th>\n      <td>disease_4</td>\n      <td>0.50184</td>\n    </tr>\n    <tr>\n      <th>5</th>\n      <td>disease_5</td>\n      <td>0.49554</td>\n    </tr>\n    <tr>\n      <th>6</th>\n      <td>disease_6</td>\n      <td>0.49740</td>\n    </tr>\n    <tr>\n      <th>7</th>\n      <td>disease_7</td>\n      <td>0.49822</td>\n    </tr>\n    <tr>\n      <th>8</th>\n      <td>disease_8</td>\n      <td>0.50094</td>\n    </tr>\n    <tr>\n      <th>9</th>\n      <td>disease_9</td>\n      <td>0.50022</td>\n    </tr>\n  </tbody>\n</table>\n</div>"
     },
     "execution_count": 11,
     "metadata": {},
     "output_type": "execute_result"
    }
   ],
   "source": [
    "data_freq"
   ],
   "metadata": {
    "collapsed": false,
    "pycharm": {
     "name": "#%%\n"
    }
   }
  },
  {
   "cell_type": "code",
   "execution_count": 12,
   "outputs": [],
   "source": [
    "dictionary = pd.DataFrame({'FieldID': ['disease_0', 'disease_7', 'disease_8', 'disease_2', 'disease_1', 'disease_9', 'disease_3', 'disease_10', 'disease_4', 'disease_5', 'disease_6'],\n",
    "                           'Field': [0, 7, 8, 2, 1, 9, 3, 10, 4, 5, 6]})"
   ],
   "metadata": {
    "collapsed": false,
    "pycharm": {
     "name": "#%%\n"
    }
   }
  },
  {
   "cell_type": "code",
   "execution_count": 13,
   "outputs": [],
   "source": [
    "def phecode_conversion(data, dictionary_df, replace_col, key_col, new_col, index_col=False):\n",
    "\n",
    "    dataframe = data\n",
    "    r = list(dataframe[replace_col])\n",
    "    new = []\n",
    "\n",
    "    for item in r:\n",
    "\n",
    "        for key, value in zip(list(dictionary_df[key_col]), list(dictionary_df[new_col])):\n",
    "            if item == key:\n",
    "                new.append(value)\n",
    "            else:\n",
    "                pass\n",
    "\n",
    "    dataframe[replace_col] = new\n",
    "\n",
    "    return dataframe\n",
    "\n"
   ],
   "metadata": {
    "collapsed": false,
    "pycharm": {
     "name": "#%%\n"
    }
   }
  },
  {
   "cell_type": "code",
   "execution_count": 14,
   "outputs": [],
   "source": [
    "d = phecode_conversion(data_freq, dictionary, 'diseases', 'FieldID', 'Field')"
   ],
   "metadata": {
    "collapsed": false,
    "pycharm": {
     "name": "#%%\n"
    }
   }
  },
  {
   "cell_type": "code",
   "execution_count": 15,
   "outputs": [
    {
     "data": {
      "text/plain": "   diseases  Frequency\n0         0    0.49518\n1         1    0.49880\n2         2    0.50100\n3         3    0.49838\n4         4    0.50184\n5         5    0.49554\n6         6    0.49740\n7         7    0.49822\n8         8    0.50094\n9         9    0.50022",
      "text/html": "<div>\n<style scoped>\n    .dataframe tbody tr th:only-of-type {\n        vertical-align: middle;\n    }\n\n    .dataframe tbody tr th {\n        vertical-align: top;\n    }\n\n    .dataframe thead th {\n        text-align: right;\n    }\n</style>\n<table border=\"1\" class=\"dataframe\">\n  <thead>\n    <tr style=\"text-align: right;\">\n      <th></th>\n      <th>diseases</th>\n      <th>Frequency</th>\n    </tr>\n  </thead>\n  <tbody>\n    <tr>\n      <th>0</th>\n      <td>0</td>\n      <td>0.49518</td>\n    </tr>\n    <tr>\n      <th>1</th>\n      <td>1</td>\n      <td>0.49880</td>\n    </tr>\n    <tr>\n      <th>2</th>\n      <td>2</td>\n      <td>0.50100</td>\n    </tr>\n    <tr>\n      <th>3</th>\n      <td>3</td>\n      <td>0.49838</td>\n    </tr>\n    <tr>\n      <th>4</th>\n      <td>4</td>\n      <td>0.50184</td>\n    </tr>\n    <tr>\n      <th>5</th>\n      <td>5</td>\n      <td>0.49554</td>\n    </tr>\n    <tr>\n      <th>6</th>\n      <td>6</td>\n      <td>0.49740</td>\n    </tr>\n    <tr>\n      <th>7</th>\n      <td>7</td>\n      <td>0.49822</td>\n    </tr>\n    <tr>\n      <th>8</th>\n      <td>8</td>\n      <td>0.50094</td>\n    </tr>\n    <tr>\n      <th>9</th>\n      <td>9</td>\n      <td>0.50022</td>\n    </tr>\n  </tbody>\n</table>\n</div>"
     },
     "execution_count": 15,
     "metadata": {},
     "output_type": "execute_result"
    }
   ],
   "source": [
    "d"
   ],
   "metadata": {
    "collapsed": false,
    "pycharm": {
     "name": "#%%\n"
    }
   }
  },
  {
   "cell_type": "code",
   "execution_count": 15,
   "outputs": [],
   "source": [],
   "metadata": {
    "collapsed": false,
    "pycharm": {
     "name": "#%%\n"
    }
   }
  },
  {
   "cell_type": "code",
   "execution_count": 15,
   "outputs": [],
   "source": [],
   "metadata": {
    "collapsed": false,
    "pycharm": {
     "name": "#%%\n"
    }
   }
  },
  {
   "cell_type": "code",
   "execution_count": 214,
   "outputs": [],
   "source": [],
   "metadata": {
    "collapsed": false,
    "pycharm": {
     "name": "#%%\n"
    }
   }
  },
  {
   "cell_type": "code",
   "execution_count": null,
   "outputs": [],
   "source": [],
   "metadata": {
    "collapsed": false,
    "pycharm": {
     "name": "#%%\n"
    }
   }
  }
 ],
 "metadata": {
  "kernelspec": {
   "display_name": "Python 3",
   "language": "python",
   "name": "python3"
  },
  "language_info": {
   "codemirror_mode": {
    "name": "ipython",
    "version": 2
   },
   "file_extension": ".py",
   "mimetype": "text/x-python",
   "name": "python",
   "nbconvert_exporter": "python",
   "pygments_lexer": "ipython2",
   "version": "2.7.6"
  }
 },
 "nbformat": 4,
 "nbformat_minor": 0
}